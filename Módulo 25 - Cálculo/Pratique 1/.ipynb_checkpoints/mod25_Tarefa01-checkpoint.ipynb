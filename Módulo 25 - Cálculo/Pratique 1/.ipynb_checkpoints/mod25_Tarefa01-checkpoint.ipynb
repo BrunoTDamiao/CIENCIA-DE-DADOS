{
 "cells": [
  {
   "cell_type": "markdown",
   "metadata": {
    "editable": true,
    "slideshow": {
     "slide_type": ""
    },
    "tags": []
   },
   "source": [
    "# Cálculo - Tarefa 01\n",
    "\n",
    "1. Marque quais desses métodos/algoritmos muito populares em ciência de dados são baseados no uso de derivada:\n",
    "\n",
    "    1. Método Mínimos Quadrados\n",
    "    2. Gradiente descendente\n",
    "    3. Newton Raphson\n",
    "    4. CART (Árvore de decisão)"
   ]
  },
  {
   "cell_type": "markdown",
   "metadata": {
    "editable": true,
    "slideshow": {
     "slide_type": ""
    },
    "tags": []
   },
   "source": [
    "**Método dos Mínimos Quadrados**\n",
    "- contém uso de derivada: **SIM**\n",
    "> - Esse método busca minimizar a soma dos quadrados dos erros (resíduos) entre os valores previstos e os observados. Para encontrar os coeficientes ótimos em uma regressão linear, deriva-se a função do erro em relação aos parâmetros (coeficientes) e resolve-se o sistema de equações resultante para encontrar o mínimo.\n",
    "\n",
    "**Gradiente Descendente**\n",
    "- contém uso de derivada: **SIM**\n",
    "> - Esse algoritmo é uma técnica iterativa de otimização que minimiza uma função (como uma função de custo) movendo-se na direção oposta ao gradiente (derivada) dessa função. O gradiente indica a direção de maior crescimento, e seguir na direção contrária permite encontrar o ponto mínimo local (ou global, dependendo do problema).\n",
    "\n",
    "**Newton-Raphson**\n",
    "- contém uso de derivada: **SIM**\n",
    "> - Este método é usado para encontrar raízes de funções ou otimizar funções não lineares. Ele utiliza tanto a derivada quanto a segunda derivada (derivada da derivada) da função objetivo. A fórmula do método atualiza iterativamente o valor da solução com base em uma aproximação quadrática da função.\n",
    "\n",
    "**CART (Árvore de Decisão)**\n",
    "- contém uso de derivada: **NÃO**\n",
    "> - CART (Classification and Regression Trees) é um algoritmo baseado em partições recursivas dos dados. Ele escolhe os pontos de divisão que maximizam algum critério, como o ganho de informação ou a redução do erro quadrático. Como o processo não depende de uma função contínua que possa ser diferenciada, ele não faz uso de derivadas."
   ]
  },
  {
   "cell_type": "markdown",
   "metadata": {},
   "source": [
    "2. Dada uma base de dados com uma variável resposta $y$ e um conjunto de variáveis explicativas. Considere uma estrutura de um modelo de regressão. Explique com suas palavras por que não é possível obter parâmetros que forneçam um erro quadrático médio (EQM) menor que o obtido com estimadores de mínimos quadrados."
   ]
  },
  {
   "cell_type": "markdown",
   "metadata": {
    "editable": true,
    "slideshow": {
     "slide_type": ""
    },
    "tags": []
   },
   "source": [
    "**1. Estimador Insesgado**\n",
    "> - O estimador de mínimos quadrados fornece uma estimativa insesgada dos parâmetros, o que significa que, em média, os parâmetros estimados estarão corretos (ou próximos ao valor verdadeiro).\n",
    "> - Se tentarmos usar outro estimador que distorça os parâmetros (mesmo que reduza o erro no conjunto de treinamento), ele pode levar a resultados tendenciosos e piores em amostras futuras.\n",
    "\n",
    "**2. Melhor Estimador Linear Insesgado (BLUE)**\n",
    "> - Pelo Teorema de Gauss-Markov, os estimadores OLS são os melhores estimadores lineares insesgados. Isso significa que, entre todos os estimadores lineares insesgados, o OLS minimiza a variância, garantindo assim o menor erro esperado no longo prazo.\n",
    "> - Qualquer tentativa de melhorar o EQM reduzindo o viés (bias) pode aumentar a variância, o que resulta em um balanço pior entre viés e variância.\n",
    "\n",
    "**3. Minimização Direta do EQM**\n",
    "> - A função de perda que o OLS minimiza é o próprio EQM (ou seja, a soma dos quadrados dos resíduos). Logo, por definição, é impossível encontrar uma solução que produza um EQM menor, já que o OLS é projetado para ser a melhor solução para essa métrica específica.\n",
    "\n",
    "**4. Assumindo Normalidade e Homocedasticidade dos Erros**\n",
    "> - A eficiência dos estimadores OLS também assume que os resíduos são homocedásticos (mesma variância para todos os erros) e normalmente distribuídos. Se essas condições forem atendidas, qualquer outro método não-linear não consegue melhorar o EQM sem violar essas suposições.\n",
    "\n",
    "**5. Introduzir Regularização Pode Aumentar Viés**\n",
    "> - Técnicas como Ridge e Lasso, que incluem regularização para melhorar a generalização, conseguem reduzir o overfitting. No entanto, esses métodos aumentam o viés, o que pode resultar em um EQM maior, especialmente se estivermos avaliando o erro no conjunto de treino."
   ]
  },
  {
   "cell_type": "code",
   "execution_count": null,
   "metadata": {},
   "outputs": [],
   "source": []
  }
 ],
 "metadata": {
  "kernelspec": {
   "display_name": "Python 3 (ipykernel)",
   "language": "python",
   "name": "python3"
  },
  "language_info": {
   "codemirror_mode": {
    "name": "ipython",
    "version": 3
   },
   "file_extension": ".py",
   "mimetype": "text/x-python",
   "name": "python",
   "nbconvert_exporter": "python",
   "pygments_lexer": "ipython3",
   "version": "3.9.0"
  },
  "toc": {
   "base_numbering": 1,
   "nav_menu": {},
   "number_sections": true,
   "sideBar": true,
   "skip_h1_title": true,
   "title_cell": "Índice",
   "title_sidebar": "Conteúdo",
   "toc_cell": false,
   "toc_position": {},
   "toc_section_display": true,
   "toc_window_display": false
  },
  "varInspector": {
   "cols": {
    "lenName": 16,
    "lenType": 16,
    "lenVar": 40
   },
   "kernels_config": {
    "python": {
     "delete_cmd_postfix": "",
     "delete_cmd_prefix": "del ",
     "library": "var_list.py",
     "varRefreshCmd": "print(var_dic_list())"
    },
    "r": {
     "delete_cmd_postfix": ") ",
     "delete_cmd_prefix": "rm(",
     "library": "var_list.r",
     "varRefreshCmd": "cat(var_dic_list()) "
    }
   },
   "types_to_exclude": [
    "module",
    "function",
    "builtin_function_or_method",
    "instance",
    "_Feature"
   ],
   "window_display": false
  }
 },
 "nbformat": 4,
 "nbformat_minor": 4
}

{
 "cells": [
  {
   "cell_type": "markdown",
   "id": "b6cca995-0e8f-4106-9a6b-8f9806699815",
   "metadata": {},
   "source": [
    "1. Monte um passo a passo para o algoritmo RF\n",
    "2. Explique com suas palavras o Random forest\n",
    "3. Qual a diferença entre Bagging e Random Forest?\n",
    "4. (Opcional) Implementar em python o Random Forest– Bootstrap– Feature selection– Modelagem com Decision trees– Agregação"
   ]
  },
  {
   "cell_type": "markdown",
   "id": "c226eac7-72eb-42c2-8b60-71d47e3a0594",
   "metadata": {},
   "source": [
    "### 1. Monte um passo a passo para o algoritmo RF\n",
    "\n",
    "1. Amostragem Bootstrap (Bagging)\n",
    "> - Nesta etapa, o algoritmo cria várias amostras do conjunto de treino original com substituição (bootstrap)\n",
    "\n",
    "2. Construção das Árvores de Decisão\n",
    "> - Para cada amostra bootstrap, o algoritmo constrói uma árvore de decisão. No entanto, o diferencial do Random Forest em relação ao bagging é que, em cada nó de decisão da árvore, o algoritmo seleciona de forma aleatória as features. Isso cria árvores mais diversas, evitando a correlação entre elas.\n",
    "\n",
    "3. Treinamento das Árvores\n",
    "> - Cada árvore de decisão é treinada de forma independente utilizando a amostra bootstrap correspondente. O objetivo é criar um conjunto de árvores que realizam previsões a partir de diferentes partes do conjunto de dados, o que aumenta a robustez do modelo.\n",
    "\n",
    "4. Previsão com o Conjunto de Árvores\n",
    "> - Após o treinamento, o algoritmo usa todas as árvores para fazer previsões. Para problemas de classificação, cada árvore faz uma previsão, e o resultado final é obtido pela votação por maioria entre as árvores. Para problemas de regressão, a média das previsões das árvores é utilizada.\n",
    "\n",
    "5. Avaliação do Desempenho\n",
    "> - Avaliar a performance do Random Forest usando métricas apropriadas"
   ]
  },
  {
   "cell_type": "markdown",
   "id": "f3debe45-c466-4401-930d-dc6983d4eda0",
   "metadata": {},
   "source": [
    "### 2. Explique com suas palavras o Random forest\n",
    "\n",
    "> - O RF é um algoritmo de machine learning baseado em Decicion Tree que utiliza a tecnica **bagging** melhorando a precisão e reduzindo o risco de overfitting. Ele cria múltiplas Decision Trees e, em vez de treinar cada árvore com o dataset completo, utiliza features aleatória de amostras e variáveis.\n"
   ]
  },
  {
   "cell_type": "markdown",
   "id": "6a2c4cae-86e4-4c7c-afb0-d1f1215aea20",
   "metadata": {},
   "source": [
    "### 3. Qual a diferença entre Bagging e Random Forest?\n",
    "\n",
    "> - A diferença principal esta no tratamento de features durante a construção das árvores\n",
    "\n",
    "> - **RANDOM FOREST**:\n",
    ">> - Durante a construção de cada nó da arvore, o RF seleciona um subconjunto aleatorio de variáei e vez de usar todas as que estão disponiveis, garantindo que a árores sejam menos correlacionadas.\n",
    "\n",
    "> - **BAGGING**:\n",
    ">> - Treina conjuntos independentes, que podem ser Decision Trees ou outros tipos de modelos. Em métodos de bagging simples como para Decision Trees, todas as features são consideradas para cada árvore."
   ]
  },
  {
   "cell_type": "markdown",
   "id": "35a256aa-5d7c-47e4-96f3-5b1c91ed5e5a",
   "metadata": {},
   "source": [
    "### 4. Implementar em python o Random Forest– Bootstrap– Feature selection– Modelagem com Decision trees– Agregação"
   ]
  },
  {
   "cell_type": "markdown",
   "id": "953ea286-e8f2-4e2b-ac1d-219ed0b81439",
   "metadata": {},
   "source": []
  },
  {
   "cell_type": "code",
   "execution_count": 13,
   "id": "27b4c1a3-16b9-4e7c-9a00-c2cc36e89b79",
   "metadata": {},
   "outputs": [],
   "source": [
    "import numpy as np\n",
    "from sklearn.tree import DecisionTreeClassifier\n",
    "from sklearn.datasets import load_breast_cancer\n",
    "from sklearn.model_selection import train_test_split\n",
    "from sklearn.metrics import accuracy_score\n"
   ]
  },
  {
   "cell_type": "code",
   "execution_count": 31,
   "id": "35bfe61a-a450-4c2c-8c79-edc1346759f0",
   "metadata": {},
   "outputs": [],
   "source": [
    "# Carregar o dataset de câncer de mama\n",
    "data = load_breast_cancer()\n",
    "X, y = data.data, data.target\n",
    "\n",
    "# Dividir o dataset em treino e teste\n",
    "X_train, X_test, y_train, y_test = train_test_split(X, y, test_size=0.5, random_state=987645231)\n"
   ]
  },
  {
   "cell_type": "code",
   "execution_count": 15,
   "id": "a18f72c0-d93d-436d-88c9-2b74e5941f2b",
   "metadata": {},
   "outputs": [],
   "source": [
    "def bootstrap_sample(X, y):\n",
    "    n_samples = X.shape[0]\n",
    "    indices = np.random.choice(n_samples, size=n_samples, replace=True)\n",
    "    return X[indices], y[indices]\n",
    "\n",
    "def random_features(X, max_features):\n",
    "    n_features = X.shape[1]\n",
    "    feature_indices = np.random.choice(n_features, size=max_features, replace=False)\n",
    "    return feature_indices\n",
    "\n",
    "def train_random_forest(X_train, y_train, n_estimators=10, max_features=None):\n",
    "    models = []\n",
    "    for _ in range(n_estimators):\n",
    "        # Gerar amostra bootstrap\n",
    "        X_sample, y_sample = bootstrap_sample(X_train, y_train)\n",
    "        \n",
    "        # Escolher aleatoriamente um subconjunto de features\n",
    "        if max_features is None:\n",
    "            max_features = int(np.sqrt(X_train.shape[1]))  # Critério comum em Random Forest\n",
    "        \n",
    "        feature_indices = random_features(X_sample, max_features)\n",
    "        \n",
    "        # Treinar árvore de decisão com um subconjunto de features\n",
    "        model = DecisionTreeClassifier()\n",
    "        model.fit(X_sample[:, feature_indices], y_sample)  # Usando apenas as features selecionadas\n",
    "        models.append((model, feature_indices))  # Armazenar o modelo e as features usadas\n",
    "    \n",
    "    return models\n",
    "\n",
    "def random_forest_predict(models, X_test):\n",
    "    predictions = []\n",
    "    for model, feature_indices in models:\n",
    "        # Fazer a previsão apenas com as features que o modelo foi treinado\n",
    "        pred = model.predict(X_test[:, feature_indices])\n",
    "        predictions.append(pred)\n",
    "    \n",
    "    # Votação por maioria entre as árvores\n",
    "    predictions = np.array(predictions)\n",
    "    majority_votes = np.apply_along_axis(lambda x: np.bincount(x).argmax(), axis=0, arr=predictions)\n",
    "    return majority_votes\n"
   ]
  },
  {
   "cell_type": "code",
   "execution_count": 33,
   "id": "30261af1-49f5-48e8-a130-dc40115f485c",
   "metadata": {},
   "outputs": [
    {
     "name": "stdout",
     "output_type": "stream",
     "text": [
      "Acurácia do modelo Random Forest: 94.74%\n"
     ]
    }
   ],
   "source": [
    "# Parâmetros do modelo\n",
    "n_estimators = 300  # Número de árvores\n",
    "max_features = int(np.sqrt(X_train.shape[1]))  # Número de features aleatórias por nó\n",
    "\n",
    "# Treinar a Random Forest\n",
    "models = train_random_forest(X_train, y_train, n_estimators, max_features)\n",
    "\n",
    "# Fazer previsões com o modelo Random Forest\n",
    "y_pred = random_forest_predict(models, X_test)\n",
    "\n",
    "# Avaliar a acurácia\n",
    "accuracy = accuracy_score(y_test, y_pred)\n",
    "print(f\"Acurácia do modelo Random Forest: {accuracy * 100:.2f}%\")\n"
   ]
  },
  {
   "cell_type": "code",
   "execution_count": null,
   "id": "f377763c-c966-4db3-8366-cc44943b2313",
   "metadata": {},
   "outputs": [],
   "source": []
  },
  {
   "cell_type": "code",
   "execution_count": null,
   "id": "3f0ce55e-664e-4726-a708-ec70ea4a5c00",
   "metadata": {},
   "outputs": [],
   "source": []
  },
  {
   "cell_type": "code",
   "execution_count": null,
   "id": "0bb3118f-e8a9-4931-8b74-f5f6685a0803",
   "metadata": {},
   "outputs": [],
   "source": []
  },
  {
   "cell_type": "code",
   "execution_count": null,
   "id": "3e542600-d8e0-4c77-b2f5-c50a6aee3ed7",
   "metadata": {},
   "outputs": [],
   "source": []
  },
  {
   "cell_type": "code",
   "execution_count": null,
   "id": "5c570988-2639-4922-a122-d15702c13c37",
   "metadata": {},
   "outputs": [],
   "source": []
  }
 ],
 "metadata": {
  "kernelspec": {
   "display_name": "Python 3 (ipykernel)",
   "language": "python",
   "name": "python3"
  },
  "language_info": {
   "codemirror_mode": {
    "name": "ipython",
    "version": 3
   },
   "file_extension": ".py",
   "mimetype": "text/x-python",
   "name": "python",
   "nbconvert_exporter": "python",
   "pygments_lexer": "ipython3",
   "version": "3.9.0"
  }
 },
 "nbformat": 4,
 "nbformat_minor": 5
}

{
 "cells": [
  {
   "cell_type": "markdown",
   "id": "d5edd4be-3b09-4564-ae0c-13590af2346b",
   "metadata": {},
   "source": [
    "### 1. Quais são os hyperparâmetros do RF?\n",
    "### 2. Pra que serve cada um deles?\n",
    "\n",
    "1. n_estimators (Número de estimadores)\n",
    "> - O número de árvores de decisão a serem construídas no modelo. Aumentar o número de árvores geralmente melhora a performance, mas aumenta o tempo de treinamento.\n",
    "\n",
    "2. max_features (Máximo de características)\n",
    "> - O número de variáveis a serem consideradas para dividir em cada nó. Escolher um valor menor reduz a correlação entre as árvores, mas também pode diminuir a performance individual de cada árvore.\n",
    "\n",
    "3. max_depth (Profundidade máxima)\n",
    "> - A profundidade máxima permitida para as árvores. Limitar a profundidade pode prevenir overfitting, mas uma profundidade muito baixa pode levar a underfitting.\n",
    "\n",
    "4. min_samples_split (Mínimo de amostras para divisão de um nó)\n",
    "> - O número mínimo de amostras necessário para dividir um nó. Aumentar esse valor pode reduzir o overfitting.\n",
    "\n",
    "5. min_samples_leaf (Mínimo de amostras por folha)\n",
    "> - O número mínimo de amostras que uma folha deve conter. Aumentar este valor ajuda a suavizar o modelo.\n",
    "\n",
    "6. bootstrap (Amostragem com reposição)\n",
    "> -  Controla se deve ou não usar a amostragem bootstrap para gerar os subconjuntos de dados para cada árvore. Se False, todas as árvores são treinadas com os mesmos dados de treino.\n",
    "\n",
    "7. oob_score (Out-of-Bag score)\n",
    "> - Habilita a validação out-of-bag (fora da bolsa). Avalia a performance do modelo utilizando amostras que não foram selecionadas no bootstrap, o que é útil para validar sem a necessidade de um conjunto de teste separado.\n",
    "\n",
    "8. n_jobs (Número de jobs)\n",
    "> - O número de CPUs a serem usados no treinamento do modelo. Se -1, usa todos os processadores disponíveis, o que pode acelerar o treinamento.\n",
    "\n",
    "9. random_state (Semente aleatória)\n",
    "> - Controla a aleatoriedade da amostragem bootstrap e a divisão de características. Definir um valor garante que os resultados sejam replicáveis.\n",
    "\n",
    "10. criterion (Critério de divisão)\n",
    "> - A função utilizada para medir a qualidade da divisão em cada nó.\n",
    "\n",
    "11. max_samples (Tamanho da amostra para bootstrap)\n",
    "> - Se bootstrap=True, define o número máximo de amostras a serem extraídas para treinar cada árvore. Se não for especificado, o número de amostras será igual ao tamanho do dataset.\n"
   ]
  },
  {
   "cell_type": "markdown",
   "id": "758c477d-cce6-4f7f-8717-2c1cf719f4bb",
   "metadata": {},
   "source": []
  },
  {
   "cell_type": "markdown",
   "id": "ba2e18c9-f496-456c-843a-15fdadde8243",
   "metadata": {},
   "source": []
  },
  {
   "cell_type": "markdown",
   "id": "87adb9f6-028b-48cd-ba2b-0ccbf297bf79",
   "metadata": {},
   "source": []
  },
  {
   "cell_type": "markdown",
   "id": "98096ba3-8bf2-45ea-befa-2647e1f8c9fd",
   "metadata": {},
   "source": []
  },
  {
   "cell_type": "code",
   "execution_count": null,
   "id": "67522403-1c11-45bb-86b2-2cf4010c925d",
   "metadata": {},
   "outputs": [],
   "source": []
  },
  {
   "cell_type": "code",
   "execution_count": null,
   "id": "c7d8dcba-e9c2-44b5-b098-d5b178a9b5d3",
   "metadata": {},
   "outputs": [],
   "source": []
  },
  {
   "cell_type": "code",
   "execution_count": null,
   "id": "9e286846-110c-4132-a865-38ed0a1a0eda",
   "metadata": {},
   "outputs": [],
   "source": []
  },
  {
   "cell_type": "code",
   "execution_count": null,
   "id": "b795f4af-4e0e-4f5b-86bf-991a34f7dd84",
   "metadata": {},
   "outputs": [],
   "source": []
  },
  {
   "cell_type": "code",
   "execution_count": null,
   "id": "abb93df5-8db8-483e-9584-1710993399a8",
   "metadata": {},
   "outputs": [],
   "source": []
  },
  {
   "cell_type": "code",
   "execution_count": null,
   "id": "2700179a-a01a-48a8-b037-22538110a850",
   "metadata": {},
   "outputs": [],
   "source": []
  }
 ],
 "metadata": {
  "kernelspec": {
   "display_name": "Python 3 (ipykernel)",
   "language": "python",
   "name": "python3"
  },
  "language_info": {
   "codemirror_mode": {
    "name": "ipython",
    "version": 3
   },
   "file_extension": ".py",
   "mimetype": "text/x-python",
   "name": "python",
   "nbconvert_exporter": "python",
   "pygments_lexer": "ipython3",
   "version": "3.9.0"
  }
 },
 "nbformat": 4,
 "nbformat_minor": 5
}

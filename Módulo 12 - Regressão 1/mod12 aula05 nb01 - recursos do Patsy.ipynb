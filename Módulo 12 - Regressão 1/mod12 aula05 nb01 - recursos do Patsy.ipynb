{
 "cells": [
  {
   "cell_type": "markdown",
   "metadata": {},
   "source": [
    "# Introdução ao statsmodels\n",
    "\n",
    "Objetivos:\n",
    "- Introduzir o Patsy (especificação de modelo similar ao R)\n",
    "- Introduzir modelagem com o Statsmodels\n",
    "\n",
    "## Índice <a name=\"topo\"></a>\n",
    "\n",
    "1. [Introdução ao Patsy](#1)\n",
    "    1. [Definindo a matriz de modelagem no Patsy](#1.1)\n",
    "    2. [Retirando o intercepto](#1.2)\n",
    "    3. [Transformações de dados no Patsy](#1.3)\n",
    "    4. [Aplicando patsy a dados novos](#1.4)\n",
    "5. [Introdução ao statsmodels](#2)\n",
    "    1. [Usando o API base do statsmodels](#2.1)\n",
    "    2. [Usando o API *formula* do statsmodels](#2.2)"
   ]
  },
  {
   "cell_type": "code",
   "execution_count": 1,
   "metadata": {},
   "outputs": [],
   "source": [
    "import pandas as pd\n",
    "import numpy as np\n",
    "from seaborn import load_dataset\n",
    "\n",
    "import patsy\n",
    "import statsmodels.api as sm\n",
    "import statsmodels.formula.api as smf"
   ]
  },
  {
   "cell_type": "code",
   "execution_count": 2,
   "metadata": {},
   "outputs": [
    {
     "data": {
      "text/html": [
       "<div>\n",
       "<style scoped>\n",
       "    .dataframe tbody tr th:only-of-type {\n",
       "        vertical-align: middle;\n",
       "    }\n",
       "\n",
       "    .dataframe tbody tr th {\n",
       "        vertical-align: top;\n",
       "    }\n",
       "\n",
       "    .dataframe thead th {\n",
       "        text-align: right;\n",
       "    }\n",
       "</style>\n",
       "<table border=\"1\" class=\"dataframe\">\n",
       "  <thead>\n",
       "    <tr style=\"text-align: right;\">\n",
       "      <th></th>\n",
       "      <th>total_bill</th>\n",
       "      <th>tip</th>\n",
       "      <th>sex</th>\n",
       "      <th>smoker</th>\n",
       "      <th>day</th>\n",
       "      <th>time</th>\n",
       "      <th>size</th>\n",
       "      <th>tip_pct</th>\n",
       "      <th>net_bill</th>\n",
       "    </tr>\n",
       "  </thead>\n",
       "  <tbody>\n",
       "    <tr>\n",
       "      <th>0</th>\n",
       "      <td>16.99</td>\n",
       "      <td>1.01</td>\n",
       "      <td>Female</td>\n",
       "      <td>No</td>\n",
       "      <td>Sun</td>\n",
       "      <td>Dinner</td>\n",
       "      <td>2</td>\n",
       "      <td>0.063204</td>\n",
       "      <td>15.98</td>\n",
       "    </tr>\n",
       "    <tr>\n",
       "      <th>1</th>\n",
       "      <td>10.34</td>\n",
       "      <td>1.66</td>\n",
       "      <td>Male</td>\n",
       "      <td>No</td>\n",
       "      <td>Sun</td>\n",
       "      <td>Dinner</td>\n",
       "      <td>3</td>\n",
       "      <td>0.191244</td>\n",
       "      <td>8.68</td>\n",
       "    </tr>\n",
       "    <tr>\n",
       "      <th>2</th>\n",
       "      <td>21.01</td>\n",
       "      <td>3.50</td>\n",
       "      <td>Male</td>\n",
       "      <td>No</td>\n",
       "      <td>Sun</td>\n",
       "      <td>Dinner</td>\n",
       "      <td>3</td>\n",
       "      <td>0.199886</td>\n",
       "      <td>17.51</td>\n",
       "    </tr>\n",
       "    <tr>\n",
       "      <th>3</th>\n",
       "      <td>23.68</td>\n",
       "      <td>3.31</td>\n",
       "      <td>Male</td>\n",
       "      <td>No</td>\n",
       "      <td>Sun</td>\n",
       "      <td>Dinner</td>\n",
       "      <td>2</td>\n",
       "      <td>0.162494</td>\n",
       "      <td>20.37</td>\n",
       "    </tr>\n",
       "    <tr>\n",
       "      <th>4</th>\n",
       "      <td>24.59</td>\n",
       "      <td>3.61</td>\n",
       "      <td>Female</td>\n",
       "      <td>No</td>\n",
       "      <td>Sun</td>\n",
       "      <td>Dinner</td>\n",
       "      <td>4</td>\n",
       "      <td>0.172069</td>\n",
       "      <td>20.98</td>\n",
       "    </tr>\n",
       "  </tbody>\n",
       "</table>\n",
       "</div>"
      ],
      "text/plain": [
       "   total_bill   tip     sex smoker  day    time  size   tip_pct  net_bill\n",
       "0       16.99  1.01  Female     No  Sun  Dinner     2  0.063204     15.98\n",
       "1       10.34  1.66    Male     No  Sun  Dinner     3  0.191244      8.68\n",
       "2       21.01  3.50    Male     No  Sun  Dinner     3  0.199886     17.51\n",
       "3       23.68  3.31    Male     No  Sun  Dinner     2  0.162494     20.37\n",
       "4       24.59  3.61  Female     No  Sun  Dinner     4  0.172069     20.98"
      ]
     },
     "execution_count": 2,
     "metadata": {},
     "output_type": "execute_result"
    }
   ],
   "source": [
    "tips = load_dataset(\"tips\")\n",
    "tips['tip_pct'] = tips['tip'] / (tips['total_bill'] - tips['tip'])\n",
    "tips['net_bill'] = tips['total_bill'] - tips['tip']\n",
    "tips.head()"
   ]
  },
  {
   "cell_type": "markdown",
   "metadata": {},
   "source": [
    "## <span style=\"color:blue\">1. Introdução ao Patsy</span><a name=\"1\"></a>\n",
    "\n",
    "<div style=\"text-align: right\"\n",
    "     \n",
    "[Voltar ao índice](#topo) </div>\n",
    "\n",
    "O Patsy é um pacote que permite especificar uma matriz de modelagem de uma forma prática como no R, com a seguinte sintaxe:\n",
    "```\n",
    "'y ~ x1 + x2 + x3'\n",
    "```\n",
    "\n",
    "Ele possui diversos recursos como:\n",
    "- inclui intercepto (ou exclui utilizando +0)\n",
    "- inserir funções das variáveis de forma prática\n",
    "- trabalhar com dados categorizados\n",
    "- facilita a aplicação a novos dados"
   ]
  },
  {
   "cell_type": "markdown",
   "metadata": {},
   "source": [
    "### <span style=\"color:blue\">1.1 Definindo a matriz de modelagem com Patsy</span><a name=\"1.1\"></a>\n",
    "\n",
    "<div style=\"text-align: right\"\n",
    "     \n",
    "[Voltar ao índice](#topo) </div> "
   ]
  },
  {
   "cell_type": "code",
   "execution_count": 3,
   "metadata": {},
   "outputs": [
    {
     "data": {
      "text/plain": [
       "DesignMatrix with shape (5, 5)\n",
       "  Intercept  sex[T.Female]  smoker[T.No]  size  total_bill\n",
       "          1              1             1     2       16.99\n",
       "          1              0             1     3       10.34\n",
       "          1              0             1     3       21.01\n",
       "          1              0             1     2       23.68\n",
       "          1              1             1     4       24.59\n",
       "  Terms:\n",
       "    'Intercept' (column 0)\n",
       "    'sex' (column 1)\n",
       "    'smoker' (column 2)\n",
       "    'size' (column 3)\n",
       "    'total_bill' (column 4)"
      ]
     },
     "execution_count": 3,
     "metadata": {},
     "output_type": "execute_result"
    }
   ],
   "source": [
    "y, X = patsy.dmatrices('tip_pct ~ sex + smoker + size + total_bill + 1', tips[:5])\n",
    "X"
   ]
  },
  {
   "cell_type": "code",
   "execution_count": 4,
   "metadata": {},
   "outputs": [
    {
     "data": {
      "text/plain": [
       "DesignMatrix with shape (5, 1)\n",
       "  tip_pct\n",
       "  0.06320\n",
       "  0.19124\n",
       "  0.19989\n",
       "  0.16249\n",
       "  0.17207\n",
       "  Terms:\n",
       "    'tip_pct' (column 0)"
      ]
     },
     "execution_count": 4,
     "metadata": {},
     "output_type": "execute_result"
    }
   ],
   "source": [
    "y"
   ]
  },
  {
   "cell_type": "markdown",
   "metadata": {},
   "source": [
    "### <span style=\"color:blue\">1.2 Retirando o intercepto</span><a name=\"1.2\"></a>\n",
    "\n",
    "<div style=\"text-align: right\"\n",
    "     \n",
    "[Voltar ao índice](#topo) </div>  \n",
    "\n",
    "Podemos retirar o intercepto no Patsy simplesmente com a instrução ```+0```. Ou, alternativamente, podemos colocá-lo de forma explícita com ```+1```."
   ]
  },
  {
   "cell_type": "code",
   "execution_count": 5,
   "metadata": {},
   "outputs": [
    {
     "data": {
      "text/plain": [
       "DesignMatrix with shape (5, 5)\n",
       "  sex[Male]  sex[Female]  smoker[T.No]  size  total_bill\n",
       "          0            1             1     2       16.99\n",
       "          1            0             1     3       10.34\n",
       "          1            0             1     3       21.01\n",
       "          1            0             1     2       23.68\n",
       "          0            1             1     4       24.59\n",
       "  Terms:\n",
       "    'sex' (columns 0:2)\n",
       "    'smoker' (column 2)\n",
       "    'size' (column 3)\n",
       "    'total_bill' (column 4)"
      ]
     },
     "execution_count": 5,
     "metadata": {},
     "output_type": "execute_result"
    }
   ],
   "source": [
    "y, X = patsy.dmatrices('tip_pct ~ sex + smoker + size + total_bill + 0', tips[:5])\n",
    "X"
   ]
  },
  {
   "cell_type": "markdown",
   "metadata": {},
   "source": [
    "### <span style=\"color:blue\">1.3 Transformações de dados no Patsy</span><a name=\"1.3\"></a>\n",
    "\n",
    "<div style=\"text-align: right\"\n",
    "     \n",
    "[Voltar ao índice](#topo) </div>  \n",
    "\n",
    "#### Aplicando funções\n",
    "\n",
    "Podemos aplicar funções vetorizadas no Patsy de forma transparente, dentro do string. Em especial, a maioria das funções do Numpy são vetorizadas e podem ser usadas normalmente, como o ```np.log()``` e ```np.exp()``` que fazem logaritmo e função exponencial ($e^x$) respectivamente."
   ]
  },
  {
   "cell_type": "code",
   "execution_count": 6,
   "metadata": {},
   "outputs": [
    {
     "data": {
      "text/plain": [
       "DesignMatrix with shape (5, 4)\n",
       "  Intercept  np.log(size)  standardize(total_bill)  center(tip)\n",
       "          1       0.69315                 -0.44762       -1.608\n",
       "          1       1.09861                 -1.72407       -0.958\n",
       "          1       1.09861                  0.32401        0.882\n",
       "          1       0.69315                  0.83651        0.692\n",
       "          1       1.38629                  1.01118        0.992\n",
       "  Terms:\n",
       "    'Intercept' (column 0)\n",
       "    'np.log(size)' (column 1)\n",
       "    'standardize(total_bill)' (column 2)\n",
       "    'center(tip)' (column 3)"
      ]
     },
     "execution_count": 6,
     "metadata": {},
     "output_type": "execute_result"
    }
   ],
   "source": [
    "y, X = patsy.dmatrices('tip_pct ~ np.log(size) + standardize(total_bill) + center(tip)', tips[:5])\n",
    "X\n"
   ]
  },
  {
   "cell_type": "code",
   "execution_count": 7,
   "metadata": {},
   "outputs": [
    {
     "data": {
      "text/plain": [
       "DesignMatrix with shape (5, 5)\n",
       "  sex[Male]  sex[Female]  smoker[T.No]  standardize(size)  center(total_bill)\n",
       "          0            1             1           -1.06904              -2.332\n",
       "          1            0             1            0.26726              -8.982\n",
       "          1            0             1            0.26726               1.688\n",
       "          1            0             1           -1.06904               4.358\n",
       "          0            1             1            1.60357               5.268\n",
       "  Terms:\n",
       "    'sex' (columns 0:2)\n",
       "    'smoker' (column 2)\n",
       "    'standardize(size)' (column 3)\n",
       "    'center(total_bill)' (column 4)"
      ]
     },
     "execution_count": 7,
     "metadata": {},
     "output_type": "execute_result"
    }
   ],
   "source": [
    "\n",
    "y, X = patsy.dmatrices('tip ~ sex + smoker + standardize(size) + center(total_bill)  + 0', tips[:5])\n",
    "X"
   ]
  },
  {
   "cell_type": "markdown",
   "metadata": {},
   "source": [
    "#### Somando variáveis dentro do Patsy\n",
    "\n",
    "Como o caractere ```+``` é interpretado dentro do contexto da construção da matriz de modelagem, se quisermos somar variáveis no Patsy podemos usar a função ```I()``` como abaixo. \n",
    "\n"
   ]
  },
  {
   "cell_type": "code",
   "execution_count": 8,
   "metadata": {},
   "outputs": [
    {
     "data": {
      "text/plain": [
       "DesignMatrix with shape (5, 4)\n",
       "  Intercept  I(size + total_bill)  size  total_bill\n",
       "          1                 18.99     2       16.99\n",
       "          1                 13.34     3       10.34\n",
       "          1                 24.01     3       21.01\n",
       "          1                 25.68     2       23.68\n",
       "          1                 28.59     4       24.59\n",
       "  Terms:\n",
       "    'Intercept' (column 0)\n",
       "    'I(size + total_bill)' (column 1)\n",
       "    'size' (column 2)\n",
       "    'total_bill' (column 3)"
      ]
     },
     "execution_count": 8,
     "metadata": {},
     "output_type": "execute_result"
    }
   ],
   "source": [
    "y, X = patsy.dmatrices('tip ~ I(size + total_bill) + size + total_bill', tips[:5])\n",
    "X"
   ]
  },
  {
   "cell_type": "markdown",
   "metadata": {},
   "source": [
    "#### Dados categorizados no Patsy\n",
    "\n",
    "Já vimos que o Patsy calcula as variáveis dummy para variáveis tipo **str**. Mas se quisermos tratar uma variável numérica como categorizada temos que usar a função ```C()```.\n",
    "\n"
   ]
  },
  {
   "cell_type": "code",
   "execution_count": 9,
   "metadata": {},
   "outputs": [
    {
     "data": {
      "text/plain": [
       "DesignMatrix with shape (5, 5)\n",
       "  Intercept  sex[T.Female]  C(size)[T.3]  C(size)[T.4]  total_bill\n",
       "          1              1             0             0       16.99\n",
       "          1              0             1             0       10.34\n",
       "          1              0             1             0       21.01\n",
       "          1              0             0             0       23.68\n",
       "          1              1             0             1       24.59\n",
       "  Terms:\n",
       "    'Intercept' (column 0)\n",
       "    'sex' (column 1)\n",
       "    'C(size)' (columns 2:4)\n",
       "    'total_bill' (column 4)"
      ]
     },
     "execution_count": 9,
     "metadata": {},
     "output_type": "execute_result"
    }
   ],
   "source": [
    "y, X = patsy.dmatrices('tip ~ sex  + C(size) + total_bill', tips[:5])\n",
    "X"
   ]
  },
  {
   "cell_type": "markdown",
   "metadata": {},
   "source": [
    "#### Definindo interações com Patsy\n",
    "Podemos inserir interações no Patsy da mesma forma que em boa parte dos softwares estatísticos programáveis com a sintaxe ```var1*var2```.\n"
   ]
  },
  {
   "cell_type": "code",
   "execution_count": 10,
   "metadata": {},
   "outputs": [
    {
     "data": {
      "text/plain": [
       "DesignMatrix with shape (5, 4)\n",
       "  Intercept  sex[T.Female]  time[T.Dinner]  sex[T.Female]:time[T.Dinner]\n",
       "          1              1               1                             1\n",
       "          1              0               1                             0\n",
       "          1              0               1                             0\n",
       "          1              0               1                             0\n",
       "          1              1               1                             1\n",
       "  Terms:\n",
       "    'Intercept' (column 0)\n",
       "    'sex' (column 1)\n",
       "    'time' (column 2)\n",
       "    'sex:time' (column 3)"
      ]
     },
     "execution_count": 10,
     "metadata": {},
     "output_type": "execute_result"
    }
   ],
   "source": [
    "y, X = patsy.dmatrices('tip ~ sex  + time + sex*time', tips[:5])\n",
    "X"
   ]
  },
  {
   "cell_type": "code",
   "execution_count": 11,
   "metadata": {},
   "outputs": [
    {
     "data": {
      "text/plain": [
       "DesignMatrix with shape (5, 4)\n",
       "  Columns:\n",
       "    ['sex[Male]:time[Lunch]',\n",
       "     'sex[Female]:time[Lunch]',\n",
       "     'sex[Male]:time[Dinner]',\n",
       "     'sex[Female]:time[Dinner]']\n",
       "  Terms:\n",
       "    'sex:time' (columns 0:4)\n",
       "  (to view full data, use np.asarray(this_obj))"
      ]
     },
     "execution_count": 11,
     "metadata": {},
     "output_type": "execute_result"
    }
   ],
   "source": [
    "y, X = patsy.dmatrices('tip ~ sex:time + 0', tips[:5])\n",
    "X"
   ]
  },
  {
   "cell_type": "markdown",
   "metadata": {},
   "source": [
    "### <span style=\"color:blue\">1.4 Aplicando patsy a dados novos</span><a name=\"1.4\"></a>\n",
    "\n",
    "<div style=\"text-align: right\"\n",
    "     \n",
    "[Voltar ao índice](#topo) </div>  \n",
    "\n",
    "Como vimos, a função ```patsy.dmatrices()``` constroi a matriz de modelagem de acordo com as instruções do string que é passado como parâmetro. Com bastante frequência, vamos precisar aplicar o nosso modelo a dados novos, vamos portanto, precisar construir a mesma matriz de dados para esses dados novos. \n",
    "\n",
    "A função ```patsy.build_design_matrices()``` cumpre com essa tarefa de construir a matriz de modelagem para novos dados, de modo a facilitar bastante a implantação do modelo."
   ]
  },
  {
   "cell_type": "code",
   "execution_count": 12,
   "metadata": {},
   "outputs": [
    {
     "data": {
      "text/plain": [
       "[DesignMatrix with shape (10, 4)\n",
       "   Columns:\n",
       "     ['sex[Male]:time[Lunch]',\n",
       "      'sex[Female]:time[Lunch]',\n",
       "      'sex[Male]:time[Dinner]',\n",
       "      'sex[Female]:time[Dinner]']\n",
       "   Terms:\n",
       "     'sex:time' (columns 0:4)\n",
       "   (to view full data, use np.asarray(this_obj))]"
      ]
     },
     "execution_count": 12,
     "metadata": {},
     "output_type": "execute_result"
    }
   ],
   "source": [
    "novos_Dados = tips[20:30]\n",
    "\n",
    "new_X = patsy.build_design_matrices([X.design_info], novos_Dados)\n",
    "new_X"
   ]
  },
  {
   "cell_type": "markdown",
   "metadata": {},
   "source": [
    "## <span style=\"color:blue\">2 Introdução ao Statsmodels</span><a name=\"2\"></a>\n",
    "\n",
    "<div style=\"text-align: right\"\n",
    "     \n",
    "[Voltar ao índice](#topo) </div>  \n",
    "\n",
    "\n",
    "### <span style=\"color:blue\">2.1 Usando a api do statsmodels</span><a name=\"2.1\"></a>\n",
    "\n",
    "<div style=\"text-align: right\"\n",
    "     \n",
    "[Voltar ao índice](#topo) </div>  \n",
    "\n",
    "O statsmodels tem o API padrão, que é compatível com o Patsy, ou seja, você pode inserir a matriz de modelagem fornecida pelo ```patsy.dmatrices()```, bem como um objeto do numpy ou do pandas, como fizemos com o scikitlearn."
   ]
  },
  {
   "cell_type": "code",
   "execution_count": 13,
   "metadata": {},
   "outputs": [
    {
     "data": {
      "text/plain": [
       "DesignMatrix with shape (244, 5)\n",
       "  Intercept  sex[T.Female]  time[T.Dinner]  smoker[T.No]  net_bill\n",
       "          1              1               1             1     15.98\n",
       "          1              0               1             1      8.68\n",
       "          1              0               1             1     17.51\n",
       "          1              0               1             1     20.37\n",
       "          1              1               1             1     20.98\n",
       "          1              0               1             1     20.58\n",
       "          1              0               1             1      6.77\n",
       "          1              0               1             1     23.76\n",
       "          1              0               1             1     13.08\n",
       "          1              0               1             1     11.55\n",
       "          1              0               1             1      8.56\n",
       "          1              1               1             1     30.26\n",
       "          1              0               1             1     13.85\n",
       "          1              0               1             1     15.43\n",
       "          1              1               1             1     11.81\n",
       "          1              0               1             1     17.66\n",
       "          1              1               1             1      8.66\n",
       "          1              0               1             1     12.58\n",
       "          1              1               1             1     13.47\n",
       "          1              0               1             1     17.30\n",
       "          1              0               1             1     13.84\n",
       "          1              1               1             1     17.54\n",
       "          1              1               1             1     13.54\n",
       "          1              0               1             1     31.84\n",
       "          1              0               1             1     16.64\n",
       "          1              0               1             1     15.47\n",
       "          1              0               1             1     11.37\n",
       "          1              0               1             1     10.69\n",
       "          1              0               1             1     17.40\n",
       "          1              1               1             1     16.65\n",
       "  [214 rows omitted]\n",
       "  Terms:\n",
       "    'Intercept' (column 0)\n",
       "    'sex' (column 1)\n",
       "    'time' (column 2)\n",
       "    'smoker' (column 3)\n",
       "    'net_bill' (column 4)\n",
       "  (to view full data, use np.asarray(this_obj))"
      ]
     },
     "execution_count": 13,
     "metadata": {},
     "output_type": "execute_result"
    }
   ],
   "source": [
    "y, X = patsy.dmatrices('tip ~ sex  + time + smoker + net_bill', tips)\n",
    "X"
   ]
  },
  {
   "cell_type": "code",
   "execution_count": 14,
   "metadata": {},
   "outputs": [
    {
     "data": {
      "text/html": [
       "<table class=\"simpletable\">\n",
       "<caption>OLS Regression Results</caption>\n",
       "<tr>\n",
       "  <th>Dep. Variable:</th>           <td>tip</td>       <th>  R-squared:         </th> <td>   0.335</td>\n",
       "</tr>\n",
       "<tr>\n",
       "  <th>Model:</th>                   <td>OLS</td>       <th>  Adj. R-squared:    </th> <td>   0.324</td>\n",
       "</tr>\n",
       "<tr>\n",
       "  <th>Method:</th>             <td>Least Squares</td>  <th>  F-statistic:       </th> <td>   30.13</td>\n",
       "</tr>\n",
       "<tr>\n",
       "  <th>Date:</th>             <td>Tue, 16 Jul 2024</td> <th>  Prob (F-statistic):</th> <td>2.64e-20</td>\n",
       "</tr>\n",
       "<tr>\n",
       "  <th>Time:</th>                 <td>14:32:35</td>     <th>  Log-Likelihood:    </th> <td> -375.13</td>\n",
       "</tr>\n",
       "<tr>\n",
       "  <th>No. Observations:</th>      <td>   244</td>      <th>  AIC:               </th> <td>   760.3</td>\n",
       "</tr>\n",
       "<tr>\n",
       "  <th>Df Residuals:</th>          <td>   239</td>      <th>  BIC:               </th> <td>   777.8</td>\n",
       "</tr>\n",
       "<tr>\n",
       "  <th>Df Model:</th>              <td>     4</td>      <th>                     </th>     <td> </td>   \n",
       "</tr>\n",
       "<tr>\n",
       "  <th>Covariance Type:</th>      <td>nonrobust</td>    <th>                     </th>     <td> </td>   \n",
       "</tr>\n",
       "</table>\n",
       "<table class=\"simpletable\">\n",
       "<tr>\n",
       "         <td></td>           <th>coef</th>     <th>std err</th>      <th>t</th>      <th>P>|t|</th>  <th>[0.025</th>    <th>0.975]</th>  \n",
       "</tr>\n",
       "<tr>\n",
       "  <th>Intercept</th>      <td>    1.1999</td> <td>    0.242</td> <td>    4.952</td> <td> 0.000</td> <td>    0.723</td> <td>    1.677</td>\n",
       "</tr>\n",
       "<tr>\n",
       "  <th>sex[T.Female]</th>  <td>   -0.0034</td> <td>    0.156</td> <td>   -0.022</td> <td> 0.982</td> <td>   -0.311</td> <td>    0.305</td>\n",
       "</tr>\n",
       "<tr>\n",
       "  <th>time[T.Dinner]</th> <td>    0.0584</td> <td>    0.168</td> <td>    0.347</td> <td> 0.729</td> <td>   -0.273</td> <td>    0.390</td>\n",
       "</tr>\n",
       "<tr>\n",
       "  <th>smoker[T.No]</th>   <td>    0.1405</td> <td>    0.151</td> <td>    0.932</td> <td> 0.352</td> <td>   -0.156</td> <td>    0.437</td>\n",
       "</tr>\n",
       "<tr>\n",
       "  <th>net_bill</th>       <td>    0.0995</td> <td>    0.009</td> <td>   10.662</td> <td> 0.000</td> <td>    0.081</td> <td>    0.118</td>\n",
       "</tr>\n",
       "</table>\n",
       "<table class=\"simpletable\">\n",
       "<tr>\n",
       "  <th>Omnibus:</th>       <td>36.537</td> <th>  Durbin-Watson:     </th> <td>   2.121</td>\n",
       "</tr>\n",
       "<tr>\n",
       "  <th>Prob(Omnibus):</th> <td> 0.000</td> <th>  Jarque-Bera (JB):  </th> <td>  65.875</td>\n",
       "</tr>\n",
       "<tr>\n",
       "  <th>Skew:</th>          <td> 0.800</td> <th>  Prob(JB):          </th> <td>4.96e-15</td>\n",
       "</tr>\n",
       "<tr>\n",
       "  <th>Kurtosis:</th>      <td> 4.980</td> <th>  Cond. No.          </th> <td>    71.2</td>\n",
       "</tr>\n",
       "</table><br/><br/>Notes:<br/>[1] Standard Errors assume that the covariance matrix of the errors is correctly specified."
      ],
      "text/latex": [
       "\\begin{center}\n",
       "\\begin{tabular}{lclc}\n",
       "\\toprule\n",
       "\\textbf{Dep. Variable:}    &       tip        & \\textbf{  R-squared:         } &     0.335   \\\\\n",
       "\\textbf{Model:}            &       OLS        & \\textbf{  Adj. R-squared:    } &     0.324   \\\\\n",
       "\\textbf{Method:}           &  Least Squares   & \\textbf{  F-statistic:       } &     30.13   \\\\\n",
       "\\textbf{Date:}             & Tue, 16 Jul 2024 & \\textbf{  Prob (F-statistic):} &  2.64e-20   \\\\\n",
       "\\textbf{Time:}             &     14:32:35     & \\textbf{  Log-Likelihood:    } &   -375.13   \\\\\n",
       "\\textbf{No. Observations:} &         244      & \\textbf{  AIC:               } &     760.3   \\\\\n",
       "\\textbf{Df Residuals:}     &         239      & \\textbf{  BIC:               } &     777.8   \\\\\n",
       "\\textbf{Df Model:}         &           4      & \\textbf{                     } &             \\\\\n",
       "\\textbf{Covariance Type:}  &    nonrobust     & \\textbf{                     } &             \\\\\n",
       "\\bottomrule\n",
       "\\end{tabular}\n",
       "\\begin{tabular}{lcccccc}\n",
       "                        & \\textbf{coef} & \\textbf{std err} & \\textbf{t} & \\textbf{P$> |$t$|$} & \\textbf{[0.025} & \\textbf{0.975]}  \\\\\n",
       "\\midrule\n",
       "\\textbf{Intercept}      &       1.1999  &        0.242     &     4.952  &         0.000        &        0.723    &        1.677     \\\\\n",
       "\\textbf{sex[T.Female]}  &      -0.0034  &        0.156     &    -0.022  &         0.982        &       -0.311    &        0.305     \\\\\n",
       "\\textbf{time[T.Dinner]} &       0.0584  &        0.168     &     0.347  &         0.729        &       -0.273    &        0.390     \\\\\n",
       "\\textbf{smoker[T.No]}   &       0.1405  &        0.151     &     0.932  &         0.352        &       -0.156    &        0.437     \\\\\n",
       "\\textbf{net\\_bill}      &       0.0995  &        0.009     &    10.662  &         0.000        &        0.081    &        0.118     \\\\\n",
       "\\bottomrule\n",
       "\\end{tabular}\n",
       "\\begin{tabular}{lclc}\n",
       "\\textbf{Omnibus:}       & 36.537 & \\textbf{  Durbin-Watson:     } &    2.121  \\\\\n",
       "\\textbf{Prob(Omnibus):} &  0.000 & \\textbf{  Jarque-Bera (JB):  } &   65.875  \\\\\n",
       "\\textbf{Skew:}          &  0.800 & \\textbf{  Prob(JB):          } & 4.96e-15  \\\\\n",
       "\\textbf{Kurtosis:}      &  4.980 & \\textbf{  Cond. No.          } &     71.2  \\\\\n",
       "\\bottomrule\n",
       "\\end{tabular}\n",
       "%\\caption{OLS Regression Results}\n",
       "\\end{center}\n",
       "\n",
       "Notes: \\newline\n",
       " [1] Standard Errors assume that the covariance matrix of the errors is correctly specified."
      ],
      "text/plain": [
       "<class 'statsmodels.iolib.summary.Summary'>\n",
       "\"\"\"\n",
       "                            OLS Regression Results                            \n",
       "==============================================================================\n",
       "Dep. Variable:                    tip   R-squared:                       0.335\n",
       "Model:                            OLS   Adj. R-squared:                  0.324\n",
       "Method:                 Least Squares   F-statistic:                     30.13\n",
       "Date:                Tue, 16 Jul 2024   Prob (F-statistic):           2.64e-20\n",
       "Time:                        14:32:35   Log-Likelihood:                -375.13\n",
       "No. Observations:                 244   AIC:                             760.3\n",
       "Df Residuals:                     239   BIC:                             777.8\n",
       "Df Model:                           4                                         \n",
       "Covariance Type:            nonrobust                                         \n",
       "==================================================================================\n",
       "                     coef    std err          t      P>|t|      [0.025      0.975]\n",
       "----------------------------------------------------------------------------------\n",
       "Intercept          1.1999      0.242      4.952      0.000       0.723       1.677\n",
       "sex[T.Female]     -0.0034      0.156     -0.022      0.982      -0.311       0.305\n",
       "time[T.Dinner]     0.0584      0.168      0.347      0.729      -0.273       0.390\n",
       "smoker[T.No]       0.1405      0.151      0.932      0.352      -0.156       0.437\n",
       "net_bill           0.0995      0.009     10.662      0.000       0.081       0.118\n",
       "==============================================================================\n",
       "Omnibus:                       36.537   Durbin-Watson:                   2.121\n",
       "Prob(Omnibus):                  0.000   Jarque-Bera (JB):               65.875\n",
       "Skew:                           0.800   Prob(JB):                     4.96e-15\n",
       "Kurtosis:                       4.980   Cond. No.                         71.2\n",
       "==============================================================================\n",
       "\n",
       "Notes:\n",
       "[1] Standard Errors assume that the covariance matrix of the errors is correctly specified.\n",
       "\"\"\""
      ]
     },
     "execution_count": 14,
     "metadata": {},
     "output_type": "execute_result"
    }
   ],
   "source": [
    "modelo = sm.OLS(y,X).fit()\n",
    "\n",
    "modelo.summary()"
   ]
  },
  {
   "cell_type": "markdown",
   "metadata": {},
   "source": [
    "### <span style=\"color:blue\">2.2 Usando a api *formula* do statsmodels</span><a name=\"2.2\"></a>\n",
    "\n",
    "<div style=\"text-align: right\"\n",
    "     \n",
    "[Voltar ao índice](#topo) </div>  \n",
    "\n",
    "O statsmodels possui um pacote *formula*, que já integra a interface do Patsy. Com ele podemos indicar a sintaxe do modelo diretamente na função do modelo, ```ols()``` no caso. Repare que a função vem com letras minúsculas, em contraste com o API padrão do statsmodels, propositalmente, para deixar claro qual o API que está sendo utilizado."
   ]
  },
  {
   "cell_type": "code",
   "execution_count": 15,
   "metadata": {},
   "outputs": [
    {
     "data": {
      "text/html": [
       "<table class=\"simpletable\">\n",
       "<caption>OLS Regression Results</caption>\n",
       "<tr>\n",
       "  <th>Dep. Variable:</th>         <td>tip_pct</td>     <th>  R-squared:         </th> <td>   0.090</td>\n",
       "</tr>\n",
       "<tr>\n",
       "  <th>Model:</th>                   <td>OLS</td>       <th>  Adj. R-squared:    </th> <td>   0.079</td>\n",
       "</tr>\n",
       "<tr>\n",
       "  <th>Method:</th>             <td>Least Squares</td>  <th>  F-statistic:       </th> <td>   7.953</td>\n",
       "</tr>\n",
       "<tr>\n",
       "  <th>Date:</th>             <td>Tue, 16 Jul 2024</td> <th>  Prob (F-statistic):</th> <td>4.46e-05</td>\n",
       "</tr>\n",
       "<tr>\n",
       "  <th>Time:</th>                 <td>14:32:35</td>     <th>  Log-Likelihood:    </th> <td>  107.89</td>\n",
       "</tr>\n",
       "<tr>\n",
       "  <th>No. Observations:</th>      <td>   244</td>      <th>  AIC:               </th> <td>  -207.8</td>\n",
       "</tr>\n",
       "<tr>\n",
       "  <th>Df Residuals:</th>          <td>   240</td>      <th>  BIC:               </th> <td>  -193.8</td>\n",
       "</tr>\n",
       "<tr>\n",
       "  <th>Df Model:</th>              <td>     3</td>      <th>                     </th>     <td> </td>   \n",
       "</tr>\n",
       "<tr>\n",
       "  <th>Covariance Type:</th>      <td>nonrobust</td>    <th>                     </th>     <td> </td>   \n",
       "</tr>\n",
       "</table>\n",
       "<table class=\"simpletable\">\n",
       "<tr>\n",
       "           <td></td>             <th>coef</th>     <th>std err</th>      <th>t</th>      <th>P>|t|</th>  <th>[0.025</th>    <th>0.975]</th>  \n",
       "</tr>\n",
       "<tr>\n",
       "  <th>Intercept</th>          <td>    0.5401</td> <td>    0.071</td> <td>    7.618</td> <td> 0.000</td> <td>    0.400</td> <td>    0.680</td>\n",
       "</tr>\n",
       "<tr>\n",
       "  <th>sex[T.Female]</th>      <td>   -0.0105</td> <td>    0.021</td> <td>   -0.496</td> <td> 0.620</td> <td>   -0.052</td> <td>    0.031</td>\n",
       "</tr>\n",
       "<tr>\n",
       "  <th>size</th>               <td>    0.0176</td> <td>    0.013</td> <td>    1.345</td> <td> 0.180</td> <td>   -0.008</td> <td>    0.043</td>\n",
       "</tr>\n",
       "<tr>\n",
       "  <th>np.log(total_bill)</th> <td>   -0.1313</td> <td>    0.029</td> <td>   -4.589</td> <td> 0.000</td> <td>   -0.188</td> <td>   -0.075</td>\n",
       "</tr>\n",
       "</table>\n",
       "<table class=\"simpletable\">\n",
       "<tr>\n",
       "  <th>Omnibus:</th>       <td>460.749</td> <th>  Durbin-Watson:     </th>  <td>   1.977</td> \n",
       "</tr>\n",
       "<tr>\n",
       "  <th>Prob(Omnibus):</th> <td> 0.000</td>  <th>  Jarque-Bera (JB):  </th> <td>214315.295</td>\n",
       "</tr>\n",
       "<tr>\n",
       "  <th>Skew:</th>          <td>10.735</td>  <th>  Prob(JB):          </th>  <td>    0.00</td> \n",
       "</tr>\n",
       "<tr>\n",
       "  <th>Kurtosis:</th>      <td>146.594</td> <th>  Cond. No.          </th>  <td>    31.0</td> \n",
       "</tr>\n",
       "</table><br/><br/>Notes:<br/>[1] Standard Errors assume that the covariance matrix of the errors is correctly specified."
      ],
      "text/latex": [
       "\\begin{center}\n",
       "\\begin{tabular}{lclc}\n",
       "\\toprule\n",
       "\\textbf{Dep. Variable:}      &     tip\\_pct     & \\textbf{  R-squared:         } &     0.090   \\\\\n",
       "\\textbf{Model:}              &       OLS        & \\textbf{  Adj. R-squared:    } &     0.079   \\\\\n",
       "\\textbf{Method:}             &  Least Squares   & \\textbf{  F-statistic:       } &     7.953   \\\\\n",
       "\\textbf{Date:}               & Tue, 16 Jul 2024 & \\textbf{  Prob (F-statistic):} &  4.46e-05   \\\\\n",
       "\\textbf{Time:}               &     14:32:35     & \\textbf{  Log-Likelihood:    } &    107.89   \\\\\n",
       "\\textbf{No. Observations:}   &         244      & \\textbf{  AIC:               } &    -207.8   \\\\\n",
       "\\textbf{Df Residuals:}       &         240      & \\textbf{  BIC:               } &    -193.8   \\\\\n",
       "\\textbf{Df Model:}           &           3      & \\textbf{                     } &             \\\\\n",
       "\\textbf{Covariance Type:}    &    nonrobust     & \\textbf{                     } &             \\\\\n",
       "\\bottomrule\n",
       "\\end{tabular}\n",
       "\\begin{tabular}{lcccccc}\n",
       "                             & \\textbf{coef} & \\textbf{std err} & \\textbf{t} & \\textbf{P$> |$t$|$} & \\textbf{[0.025} & \\textbf{0.975]}  \\\\\n",
       "\\midrule\n",
       "\\textbf{Intercept}           &       0.5401  &        0.071     &     7.618  &         0.000        &        0.400    &        0.680     \\\\\n",
       "\\textbf{sex[T.Female]}       &      -0.0105  &        0.021     &    -0.496  &         0.620        &       -0.052    &        0.031     \\\\\n",
       "\\textbf{size}                &       0.0176  &        0.013     &     1.345  &         0.180        &       -0.008    &        0.043     \\\\\n",
       "\\textbf{np.log(total\\_bill)} &      -0.1313  &        0.029     &    -4.589  &         0.000        &       -0.188    &       -0.075     \\\\\n",
       "\\bottomrule\n",
       "\\end{tabular}\n",
       "\\begin{tabular}{lclc}\n",
       "\\textbf{Omnibus:}       & 460.749 & \\textbf{  Durbin-Watson:     } &     1.977   \\\\\n",
       "\\textbf{Prob(Omnibus):} &   0.000 & \\textbf{  Jarque-Bera (JB):  } & 214315.295  \\\\\n",
       "\\textbf{Skew:}          &  10.735 & \\textbf{  Prob(JB):          } &      0.00   \\\\\n",
       "\\textbf{Kurtosis:}      & 146.594 & \\textbf{  Cond. No.          } &      31.0   \\\\\n",
       "\\bottomrule\n",
       "\\end{tabular}\n",
       "%\\caption{OLS Regression Results}\n",
       "\\end{center}\n",
       "\n",
       "Notes: \\newline\n",
       " [1] Standard Errors assume that the covariance matrix of the errors is correctly specified."
      ],
      "text/plain": [
       "<class 'statsmodels.iolib.summary.Summary'>\n",
       "\"\"\"\n",
       "                            OLS Regression Results                            \n",
       "==============================================================================\n",
       "Dep. Variable:                tip_pct   R-squared:                       0.090\n",
       "Model:                            OLS   Adj. R-squared:                  0.079\n",
       "Method:                 Least Squares   F-statistic:                     7.953\n",
       "Date:                Tue, 16 Jul 2024   Prob (F-statistic):           4.46e-05\n",
       "Time:                        14:32:35   Log-Likelihood:                 107.89\n",
       "No. Observations:                 244   AIC:                            -207.8\n",
       "Df Residuals:                     240   BIC:                            -193.8\n",
       "Df Model:                           3                                         \n",
       "Covariance Type:            nonrobust                                         \n",
       "======================================================================================\n",
       "                         coef    std err          t      P>|t|      [0.025      0.975]\n",
       "--------------------------------------------------------------------------------------\n",
       "Intercept              0.5401      0.071      7.618      0.000       0.400       0.680\n",
       "sex[T.Female]         -0.0105      0.021     -0.496      0.620      -0.052       0.031\n",
       "size                   0.0176      0.013      1.345      0.180      -0.008       0.043\n",
       "np.log(total_bill)    -0.1313      0.029     -4.589      0.000      -0.188      -0.075\n",
       "==============================================================================\n",
       "Omnibus:                      460.749   Durbin-Watson:                   1.977\n",
       "Prob(Omnibus):                  0.000   Jarque-Bera (JB):           214315.295\n",
       "Skew:                          10.735   Prob(JB):                         0.00\n",
       "Kurtosis:                     146.594   Cond. No.                         31.0\n",
       "==============================================================================\n",
       "\n",
       "Notes:\n",
       "[1] Standard Errors assume that the covariance matrix of the errors is correctly specified.\n",
       "\"\"\""
      ]
     },
     "execution_count": 15,
     "metadata": {},
     "output_type": "execute_result"
    }
   ],
   "source": [
    "results = smf.ols('''\n",
    "                    tip_pct ~ sex \n",
    "                                + size \n",
    "                                + np.log(total_bill)\n",
    "                  ''', tips).fit()\n",
    "\n",
    "results.summary()"
   ]
  },
  {
   "cell_type": "code",
   "execution_count": null,
   "metadata": {},
   "outputs": [],
   "source": []
  }
 ],
 "metadata": {
  "kernelspec": {
   "display_name": "Python 3 (ipykernel)",
   "language": "python",
   "name": "python3"
  },
  "language_info": {
   "codemirror_mode": {
    "name": "ipython",
    "version": 3
   },
   "file_extension": ".py",
   "mimetype": "text/x-python",
   "name": "python",
   "nbconvert_exporter": "python",
   "pygments_lexer": "ipython3",
   "version": "3.11.7"
  }
 },
 "nbformat": 4,
 "nbformat_minor": 4
}

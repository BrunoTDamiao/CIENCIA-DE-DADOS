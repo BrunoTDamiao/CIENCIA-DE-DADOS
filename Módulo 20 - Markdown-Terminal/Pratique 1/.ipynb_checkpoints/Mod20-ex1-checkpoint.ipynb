{
 "cells": [
  {
   "cell_type": "markdown",
   "id": "cf6d05af-b38c-485b-a6ad-5239e16d13bf",
   "metadata": {},
   "source": [
    "#### Fórmula de bhaskara\n",
    "\n",
    "A solução para uma função de segundo grau depende das suas raízes (valores de x). Como já vimos, os coeficientes precisam ser números reais e o angular diferente de zero. Sendo assim, temos a seguinte fórmula de Bhaskara:\n",
    "\n",
    "$$[\n",
    "x = \\dfrac{-b \\pm \\sqrt{b^2 - 4ac}}{2a}\n",
    "]$$\n",
    "<center><b>Fórmula de Bhaskara</b></center>\n",
    "\n",
    "Para melhor compreensão o seu cálculo é dividido em duas partes: discriminante da equação e operações para determinar as raízes..\r\n",
    "\r\n"
   ]
  },
  {
   "cell_type": "markdown",
   "id": "6b628dbd-1290-47cd-a463-aab076565c98",
   "metadata": {},
   "source": [
    "#### Discriminante\n",
    "\n",
    "A figura dentro da raiz na fórmula de Bhaskara é nomeada de discriminante. Seu símbolo é a letra grega delta e apresenta a determinada fórmula:\n",
    "\n",
    "$$[\r\n",
    "\\Delta = b^2 - 4ac\r\n",
    "]$$\n",
    "\n",
    "<center><b>Fórmula da discriminante</b></center>\n",
    "\n",
    "\n",
    "- Se o delta for maior que zero, a equação tterá dois valores reais e distintos.\n",
    "- se o delta or igual a zero, a equação terá somente um valor real ou dois resultados iguais.\n",
    "- se o delta for menor que zero, a equação não possuirá valores reais.$\r\n"
   ]
  },
  {
   "cell_type": "code",
   "execution_count": null,
   "id": "39f12649-8819-4701-bafb-1be7ae76b2d0",
   "metadata": {},
   "outputs": [],
   "source": []
  }
 ],
 "metadata": {
  "kernelspec": {
   "display_name": "Python 3 (ipykernel)",
   "language": "python",
   "name": "python3"
  },
  "language_info": {
   "codemirror_mode": {
    "name": "ipython",
    "version": 3
   },
   "file_extension": ".py",
   "mimetype": "text/x-python",
   "name": "python",
   "nbconvert_exporter": "python",
   "pygments_lexer": "ipython3",
   "version": "3.9.0"
  }
 },
 "nbformat": 4,
 "nbformat_minor": 5
}
